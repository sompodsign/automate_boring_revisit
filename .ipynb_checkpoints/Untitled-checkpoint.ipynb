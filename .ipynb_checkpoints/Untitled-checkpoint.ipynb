{
 "cells": [
  {
   "cell_type": "code",
<<<<<<< HEAD
   "execution_count": 2,
=======
   "execution_count": 3,
>>>>>>> 8a44499364136ab379613c7c62f2cd0704132818
   "metadata": {},
   "outputs": [],
   "source": [
    "import re"
   ]
  },
  {
   "cell_type": "code",
<<<<<<< HEAD
   "execution_count": 3,
   "metadata": {},
   "outputs": [],
   "source": [
    "heroRegex = re.compile(r'Batman|Tina Fey')"
=======
   "execution_count": 5,
   "metadata": {},
   "outputs": [],
   "source": [
    "phoneRegex = re.compile(r'\\d\\d\\d-\\d\\d\\d-\\d\\d\\d\\d')"
>>>>>>> 8a44499364136ab379613c7c62f2cd0704132818
   ]
  },
  {
   "cell_type": "code",
   "execution_count": 6,
   "metadata": {},
<<<<<<< HEAD
   "outputs": [],
   "source": [
    "mo1 = heroRegex.search('Tina Fey and Batman')\n"
   ]
  },
  {
   "cell_type": "code",
   "execution_count": 7,
   "metadata": {},
   "outputs": [
    {
     "data": {
      "text/plain": [
       "'Tina Fey'"
      ]
     },
     "execution_count": 7,
     "metadata": {},
     "output_type": "execute_result"
    }
   ],
   "source": [
    "mo1.group()"
   ]
  },
  {
   "cell_type": "code",
   "execution_count": 8,
   "metadata": {},
   "outputs": [],
   "source": [
    "batRegex = re.compile(r'Bat(man|mobile|copter|bat)')"
=======
   "outputs": [
    {
     "name": "stdout",
     "output_type": "stream",
     "text": [
      "Phone number found: 475-566-8574\n"
     ]
    }
   ],
   "source": [
    "\n",
    "mo = phoneRegex.search('My Number is 475-566-8574.')\n",
    "print('Phone number found: ' + mo.group())\n"
>>>>>>> 8a44499364136ab379613c7c62f2cd0704132818
   ]
  },
  {
   "cell_type": "code",
<<<<<<< HEAD
   "execution_count": 13,
   "metadata": {},
   "outputs": [],
   "source": [
    "mo= batRegex.search(' lost a wheel Batman found that')"
=======
   "execution_count": 7,
   "metadata": {},
   "outputs": [],
   "source": [
    "phoneRegex = re.compile(r'(\\d\\d\\d)-(\\d\\d\\d-\\d\\d\\d\\d)')\n",
    "mo = phoneRegex.search('My Number is 475-566-8574.')\n"
>>>>>>> 8a44499364136ab379613c7c62f2cd0704132818
   ]
  },
  {
   "cell_type": "code",
<<<<<<< HEAD
   "execution_count": 14,
=======
   "execution_count": 8,
>>>>>>> 8a44499364136ab379613c7c62f2cd0704132818
   "metadata": {},
   "outputs": [
    {
     "data": {
      "text/plain": [
<<<<<<< HEAD
       "'Batman'"
      ]
     },
     "execution_count": 14,
=======
       "'475'"
      ]
     },
     "execution_count": 8,
>>>>>>> 8a44499364136ab379613c7c62f2cd0704132818
     "metadata": {},
     "output_type": "execute_result"
    }
   ],
   "source": [
<<<<<<< HEAD
    "mo.group()"
=======
    "mo.group(1)"
>>>>>>> 8a44499364136ab379613c7c62f2cd0704132818
   ]
  },
  {
   "cell_type": "code",
<<<<<<< HEAD
   "execution_count": 15,
=======
   "execution_count": 9,
>>>>>>> 8a44499364136ab379613c7c62f2cd0704132818
   "metadata": {},
   "outputs": [
    {
     "data": {
      "text/plain": [
<<<<<<< HEAD
       "('man',)"
      ]
     },
     "execution_count": 15,
=======
       "'566-8574'"
      ]
     },
     "execution_count": 9,
>>>>>>> 8a44499364136ab379613c7c62f2cd0704132818
     "metadata": {},
     "output_type": "execute_result"
    }
   ],
   "source": [
<<<<<<< HEAD
    "mo.groups()"
   ]
  },
  {
   "cell_type": "code",
   "execution_count": 19,
   "metadata": {},
   "outputs": [],
   "source": [
    "batRegex = re.compile(r'Bat(wo)?man')"
   ]
  },
  {
   "cell_type": "code",
   "execution_count": 22,
   "metadata": {},
   "outputs": [],
   "source": [
    "mo1 = batRegex.search('The adventures of Batwoman')"
=======
    "mo.group(2)"
>>>>>>> 8a44499364136ab379613c7c62f2cd0704132818
   ]
  },
  {
   "cell_type": "code",
<<<<<<< HEAD
   "execution_count": 23,
=======
   "execution_count": 11,
>>>>>>> 8a44499364136ab379613c7c62f2cd0704132818
   "metadata": {},
   "outputs": [
    {
     "data": {
      "text/plain": [
<<<<<<< HEAD
       "'Batwoman'"
      ]
     },
     "execution_count": 23,
=======
       "('475', '566-8574')"
      ]
     },
     "execution_count": 11,
>>>>>>> 8a44499364136ab379613c7c62f2cd0704132818
     "metadata": {},
     "output_type": "execute_result"
    }
   ],
   "source": [
<<<<<<< HEAD
    "mo1.group()"
=======
    "mo.groups()"
>>>>>>> 8a44499364136ab379613c7c62f2cd0704132818
   ]
  },
  {
   "cell_type": "code",
<<<<<<< HEAD
   "execution_count": 24,
   "metadata": {},
   "outputs": [
    {
     "data": {
      "text/plain": [
       "('wo',)"
      ]
     },
     "execution_count": 24,
     "metadata": {},
     "output_type": "execute_result"
    }
   ],
   "source": [
    "mo1.groups()"
=======
   "execution_count": 12,
   "metadata": {},
   "outputs": [],
   "source": [
    "areaCode, phoneNumber = mo.groups()"
>>>>>>> 8a44499364136ab379613c7c62f2cd0704132818
   ]
  },
  {
   "cell_type": "code",
<<<<<<< HEAD
   "execution_count": 25,
=======
   "execution_count": 13,
>>>>>>> 8a44499364136ab379613c7c62f2cd0704132818
   "metadata": {},
   "outputs": [
    {
     "data": {
      "text/plain": [
<<<<<<< HEAD
       "'wo'"
      ]
     },
     "execution_count": 25,
=======
       "'475'"
      ]
     },
     "execution_count": 13,
>>>>>>> 8a44499364136ab379613c7c62f2cd0704132818
     "metadata": {},
     "output_type": "execute_result"
    }
   ],
   "source": [
<<<<<<< HEAD
    "mo1.group(1)"
=======
    "areaCode"
>>>>>>> 8a44499364136ab379613c7c62f2cd0704132818
   ]
  },
  {
   "cell_type": "code",
<<<<<<< HEAD
   "execution_count": 26,
=======
   "execution_count": 14,
>>>>>>> 8a44499364136ab379613c7c62f2cd0704132818
   "metadata": {},
   "outputs": [
    {
     "data": {
      "text/plain": [
<<<<<<< HEAD
       "'Batwoman'"
      ]
     },
     "execution_count": 26,
=======
       "'566-8574'"
      ]
     },
     "execution_count": 14,
>>>>>>> 8a44499364136ab379613c7c62f2cd0704132818
     "metadata": {},
     "output_type": "execute_result"
    }
   ],
   "source": [
<<<<<<< HEAD
    "mo1.group()"
=======
    "phoneNumber"
>>>>>>> 8a44499364136ab379613c7c62f2cd0704132818
   ]
  },
  {
   "cell_type": "code",
   "execution_count": 27,
   "metadata": {},
<<<<<<< HEAD
=======
   "outputs": [],
   "source": [
    "phoneRegex = re.compile(r'(\\(\\d\\d\\d\\)) (\\d\\d\\d-\\d\\d\\d\\d)')\n",
    "mo = phoneRegex.search('My Number is (475) 566-8574.')"
   ]
  },
  {
   "cell_type": "code",
   "execution_count": 29,
   "metadata": {},
>>>>>>> 8a44499364136ab379613c7c62f2cd0704132818
   "outputs": [
    {
     "data": {
      "text/plain": [
<<<<<<< HEAD
       "'Batwoman'"
      ]
     },
     "execution_count": 27,
=======
       "'(475) 566-8574'"
      ]
     },
     "execution_count": 29,
>>>>>>> 8a44499364136ab379613c7c62f2cd0704132818
     "metadata": {},
     "output_type": "execute_result"
    }
   ],
   "source": [
<<<<<<< HEAD
    "mo1.group(0)"
=======
    "mo.group()"
>>>>>>> 8a44499364136ab379613c7c62f2cd0704132818
   ]
  },
  {
   "cell_type": "code",
<<<<<<< HEAD
   "execution_count": 28,
   "metadata": {},
   "outputs": [],
   "source": [
    "phoneRegex = re.compile(r'(\\d\\d\\d-)?\\d\\d\\d-\\d\\d\\d\\d')"
   ]
=======
   "execution_count": null,
   "metadata": {},
   "outputs": [],
   "source": []
>>>>>>> 8a44499364136ab379613c7c62f2cd0704132818
  },
  {
   "cell_type": "code",
   "execution_count": 31,
   "metadata": {},
<<<<<<< HEAD
   "outputs": [],
   "source": [
    "mo = phoneRegex.search('My phone number 555-4242')"
   ]
  },
  {
   "cell_type": "code",
   "execution_count": 32,
   "metadata": {},
=======
>>>>>>> 8a44499364136ab379613c7c62f2cd0704132818
   "outputs": [
    {
     "data": {
      "text/plain": [
<<<<<<< HEAD
       "'555-4242'"
      ]
     },
     "execution_count": 32,
=======
       "<re.Match object; span=(0, 5), match='Hello'>"
      ]
     },
     "execution_count": 31,
>>>>>>> 8a44499364136ab379613c7c62f2cd0704132818
     "metadata": {},
     "output_type": "execute_result"
    }
   ],
   "source": [
<<<<<<< HEAD
    "mo.group()"
   ]
  },
  {
   "cell_type": "code",
   "execution_count": null,
   "metadata": {},
   "outputs": [],
   "source": []
  },
  {
   "cell_type": "code",
   "execution_count": 43,
   "metadata": {},
   "outputs": [],
   "source": [
    "batRegex = re.compile(r'Bat(wo)*man')\n",
    "mo = batRegex.search('THe adventures of Batwowowowowowoman')"
=======
    "beginsWithHello = re.compile(r'^Hello')\n",
    "beginsWithHello.search('Hello, world')"
>>>>>>> 8a44499364136ab379613c7c62f2cd0704132818
   ]
  },
  {
   "cell_type": "code",
<<<<<<< HEAD
   "execution_count": 44,
=======
   "execution_count": 32,
>>>>>>> 8a44499364136ab379613c7c62f2cd0704132818
   "metadata": {},
   "outputs": [
    {
     "data": {
      "text/plain": [
<<<<<<< HEAD
       "'Batwowowowowowoman'"
      ]
     },
     "execution_count": 44,
=======
       "True"
      ]
     },
     "execution_count": 32,
>>>>>>> 8a44499364136ab379613c7c62f2cd0704132818
     "metadata": {},
     "output_type": "execute_result"
    }
   ],
   "source": [
<<<<<<< HEAD
    "mo.group()"
=======
    "beginsWithHello.search('He said Hello.') == None"
>>>>>>> 8a44499364136ab379613c7c62f2cd0704132818
   ]
  },
  {
   "cell_type": "code",
<<<<<<< HEAD
   "execution_count": 45,
   "metadata": {},
   "outputs": [],
   "source": [
    "batRegex = re.compile(r'Bat(wo)+man')"
   ]
  },
  {
   "cell_type": "code",
   "execution_count": 46,
   "metadata": {},
   "outputs": [],
   "source": [
    "mo = batRegex.search('The adventures of Batwoman')"
   ]
  },
  {
   "cell_type": "code",
   "execution_count": 47,
=======
   "execution_count": 37,
>>>>>>> 8a44499364136ab379613c7c62f2cd0704132818
   "metadata": {},
   "outputs": [
    {
     "data": {
      "text/plain": [
<<<<<<< HEAD
       "'Batwoman'"
      ]
     },
     "execution_count": 47,
=======
       "<re.Match object; span=(15, 20), match='world'>"
      ]
     },
     "execution_count": 37,
>>>>>>> 8a44499364136ab379613c7c62f2cd0704132818
     "metadata": {},
     "output_type": "execute_result"
    }
   ],
   "source": [
<<<<<<< HEAD
    "mo.group()"
=======
    "ensWithNumber= re.compile(r'world$')\n",
    "ensWithNumber.search('Your number is world')"
>>>>>>> 8a44499364136ab379613c7c62f2cd0704132818
   ]
  },
  {
   "cell_type": "code",
<<<<<<< HEAD
   "execution_count": 48,
   "metadata": {},
   "outputs": [],
   "source": [
    "mo2 = batRegex.search('the adventures of Batwowowowowowoman')"
   ]
  },
  {
   "cell_type": "code",
   "execution_count": 49,
=======
   "execution_count": 38,
>>>>>>> 8a44499364136ab379613c7c62f2cd0704132818
   "metadata": {},
   "outputs": [
    {
     "data": {
      "text/plain": [
<<<<<<< HEAD
       "'Batwowowowowowoman'"
      ]
     },
     "execution_count": 49,
=======
       "True"
      ]
     },
     "execution_count": 38,
>>>>>>> 8a44499364136ab379613c7c62f2cd0704132818
     "metadata": {},
     "output_type": "execute_result"
    }
   ],
   "source": [
<<<<<<< HEAD
    "mo2.group()"
=======
    "ensWithNumber.search('Your number forty two.') == None"
>>>>>>> 8a44499364136ab379613c7c62f2cd0704132818
   ]
  },
  {
   "cell_type": "code",
<<<<<<< HEAD
   "execution_count": 50,
   "metadata": {},
   "outputs": [],
   "source": [
    "mo3 = batRegex.search('The adventures of Batman')"
   ]
  },
  {
   "cell_type": "code",
   "execution_count": 51,
   "metadata": {},
   "outputs": [
    {
     "ename": "AttributeError",
     "evalue": "'NoneType' object has no attribute 'group'",
     "output_type": "error",
     "traceback": [
      "\u001b[1;31m---------------------------------------------------------------\u001b[0m",
      "\u001b[1;31mAttributeError\u001b[0m                Traceback (most recent call last)",
      "\u001b[1;32m<ipython-input-51-6bef6744f9ed>\u001b[0m in \u001b[0;36m<module>\u001b[1;34m\u001b[0m\n\u001b[1;32m----> 1\u001b[1;33m \u001b[0mmo3\u001b[0m\u001b[1;33m.\u001b[0m\u001b[0mgroup\u001b[0m\u001b[1;33m(\u001b[0m\u001b[1;33m)\u001b[0m\u001b[1;33m\u001b[0m\u001b[1;33m\u001b[0m\u001b[0m\n\u001b[0m",
      "\u001b[1;31mAttributeError\u001b[0m: 'NoneType' object has no attribute 'group'"
     ]
    }
   ],
   "source": [
    "mo3.group()"
=======
   "execution_count": null,
   "metadata": {},
   "outputs": [],
   "source": []
  },
  {
   "cell_type": "code",
   "execution_count": 39,
   "metadata": {},
   "outputs": [
    {
     "data": {
      "text/plain": [
       "<re.Match object; span=(0, 14), match='23543453453453'>"
      ]
     },
     "execution_count": 39,
     "metadata": {},
     "output_type": "execute_result"
    }
   ],
   "source": [
    "wholeStringNum = re.compile(r'^\\d+$')\n",
    "wholeStringNum.search('23543453453453')\n",
    "                        "
>>>>>>> 8a44499364136ab379613c7c62f2cd0704132818
   ]
  },
  {
   "cell_type": "code",
<<<<<<< HEAD
   "execution_count": 52,
   "metadata": {},
   "outputs": [
    {
     "ename": "NameError",
     "evalue": "name 'NOne' is not defined",
     "output_type": "error",
     "traceback": [
      "\u001b[1;31m---------------------------------------------------------------\u001b[0m",
      "\u001b[1;31mNameError\u001b[0m                     Traceback (most recent call last)",
      "\u001b[1;32m<ipython-input-52-15fe5d5086a6>\u001b[0m in \u001b[0;36m<module>\u001b[1;34m\u001b[0m\n\u001b[1;32m----> 1\u001b[1;33m \u001b[0mmo3\u001b[0m \u001b[1;33m==\u001b[0m \u001b[0mNOne\u001b[0m\u001b[1;33m\u001b[0m\u001b[1;33m\u001b[0m\u001b[0m\n\u001b[0m",
      "\u001b[1;31mNameError\u001b[0m: name 'NOne' is not defined"
     ]
    }
   ],
   "source": [
    "mo3 == NOne"
=======
   "execution_count": 40,
   "metadata": {},
   "outputs": [
    {
     "data": {
      "text/plain": [
       "True"
      ]
     },
     "execution_count": 40,
     "metadata": {},
     "output_type": "execute_result"
    }
   ],
   "source": [
    "wholeStringNum.search('345353456436546asdfas') == None"
>>>>>>> 8a44499364136ab379613c7c62f2cd0704132818
   ]
  },
  {
   "cell_type": "code",
<<<<<<< HEAD
   "execution_count": 53,
=======
   "execution_count": 43,
>>>>>>> 8a44499364136ab379613c7c62f2cd0704132818
   "metadata": {},
   "outputs": [
    {
     "data": {
      "text/plain": [
<<<<<<< HEAD
       "True"
      ]
     },
     "execution_count": 53,
=======
       "['cat', 'hat', 'sat', 'lat', 'mat']"
      ]
     },
     "execution_count": 43,
>>>>>>> 8a44499364136ab379613c7c62f2cd0704132818
     "metadata": {},
     "output_type": "execute_result"
    }
   ],
   "source": [
<<<<<<< HEAD
    "mo3 == None"
=======
    "atRegex = re.compile(r'.at')\n",
    "atRegex.findall('The cat in the hat sat on the flat mat.')"
>>>>>>> 8a44499364136ab379613c7c62f2cd0704132818
   ]
  },
  {
   "cell_type": "code",
<<<<<<< HEAD
   "execution_count": 62,
   "metadata": {},
   "outputs": [],
   "source": [
    "haRegex = re.compile(r'(Ha){3,5}')\n",
    "mo1 = haRegex.search('HaHaHaHaHa')"
=======
   "execution_count": 54,
   "metadata": {},
   "outputs": [],
   "source": [
    "nameRegex = re.compile(r'First Name: (.*) Last Name: (.*)')\n",
    "mo = nameRegex.search('First Name: Shampad Last Name: Sharkar')"
>>>>>>> 8a44499364136ab379613c7c62f2cd0704132818
   ]
  },
  {
   "cell_type": "code",
<<<<<<< HEAD
   "execution_count": 63,
=======
   "execution_count": 55,
>>>>>>> 8a44499364136ab379613c7c62f2cd0704132818
   "metadata": {},
   "outputs": [
    {
     "data": {
      "text/plain": [
<<<<<<< HEAD
       "'HaHaHaHaHa'"
      ]
     },
     "execution_count": 63,
=======
       "'Shampad'"
      ]
     },
     "execution_count": 55,
>>>>>>> 8a44499364136ab379613c7c62f2cd0704132818
     "metadata": {},
     "output_type": "execute_result"
    }
   ],
   "source": [
<<<<<<< HEAD
    "mo1.group()"
   ]
  },
  {
   "cell_type": "code",
   "execution_count": 64,
   "metadata": {},
   "outputs": [],
   "source": [
    "mo2 = haRegex.search('Ha')"
=======
    "mo.group(1)"
>>>>>>> 8a44499364136ab379613c7c62f2cd0704132818
   ]
  },
  {
   "cell_type": "code",
<<<<<<< HEAD
   "execution_count": 65,
=======
   "execution_count": 53,
>>>>>>> 8a44499364136ab379613c7c62f2cd0704132818
   "metadata": {},
   "outputs": [
    {
     "data": {
      "text/plain": [
<<<<<<< HEAD
       "True"
      ]
     },
     "execution_count": 65,
=======
       "'Sharkar'"
      ]
     },
     "execution_count": 53,
>>>>>>> 8a44499364136ab379613c7c62f2cd0704132818
     "metadata": {},
     "output_type": "execute_result"
    }
   ],
   "source": [
<<<<<<< HEAD
    "mo2 == None"
=======
    "mo.group(2)"
>>>>>>> 8a44499364136ab379613c7c62f2cd0704132818
   ]
  },
  {
   "cell_type": "code",
<<<<<<< HEAD
   "execution_count": 67,
   "metadata": {},
   "outputs": [],
   "source": [
    "greedyHaRegex = re.compile(r'(Ha){3,5}')"
=======
   "execution_count": 62,
   "metadata": {},
   "outputs": [],
   "source": [
    "nongreedyRegex = re.compile(r'<.*?>')"
>>>>>>> 8a44499364136ab379613c7c62f2cd0704132818
   ]
  },
  {
   "cell_type": "code",
<<<<<<< HEAD
   "execution_count": 68,
   "metadata": {},
   "outputs": [
    {
     "data": {
      "text/plain": [
       "'HaHaHaHaHa'"
      ]
     },
     "execution_count": 68,
     "metadata": {},
     "output_type": "execute_result"
    }
   ],
   "source": [
    "mo1 = greedyHaRegex.search('HaHaHaHaHa')\n",
    "mo1.group()"
=======
   "execution_count": 63,
   "metadata": {},
   "outputs": [],
   "source": [
    "mo = nongreedyRegex.search('<To serve man> for dinner.>')"
>>>>>>> 8a44499364136ab379613c7c62f2cd0704132818
   ]
  },
  {
   "cell_type": "code",
<<<<<<< HEAD
   "execution_count": 69,
=======
   "execution_count": 64,
>>>>>>> 8a44499364136ab379613c7c62f2cd0704132818
   "metadata": {},
   "outputs": [
    {
     "data": {
      "text/plain": [
<<<<<<< HEAD
       "'HaHaHa'"
      ]
     },
     "execution_count": 69,
=======
       "'<To serve man>'"
      ]
     },
     "execution_count": 64,
>>>>>>> 8a44499364136ab379613c7c62f2cd0704132818
     "metadata": {},
     "output_type": "execute_result"
    }
   ],
   "source": [
<<<<<<< HEAD
    "nongreedyRegex = re.compile(r'(Ha){3,5}?')\n",
    "mo2 = nongreedyRegex.search('HaHaHaHaHa')\n",
    "mo2.group()"
=======
    "mo.group()"
>>>>>>> 8a44499364136ab379613c7c62f2cd0704132818
   ]
  },
  {
   "cell_type": "code",
<<<<<<< HEAD
   "execution_count": 73,
   "metadata": {},
   "outputs": [],
   "source": [
    "phoneNumRegex = re.compile(r'\\d\\d\\d-\\d\\d\\d-\\d\\d\\d\\d')\n",
    "message = 'Cell: 415-555-9999 Work: 212-555-0000'\n",
    "for phoneNumber in phoneNumRegex.search(mesage)"
=======
   "execution_count": 67,
   "metadata": {},
   "outputs": [],
   "source": [
    "noNewlineRegex = re.compile(r'.*', re.DOTALL)"
>>>>>>> 8a44499364136ab379613c7c62f2cd0704132818
   ]
  },
  {
   "cell_type": "code",
<<<<<<< HEAD
   "execution_count": 74,
   "metadata": {},
   "outputs": [
    {
     "ename": "TypeError",
     "evalue": "'re.Match' object is not iterable",
     "output_type": "error",
     "traceback": [
      "\u001b[1;31m---------------------------------------------------------------\u001b[0m",
      "\u001b[1;31mTypeError\u001b[0m                     Traceback (most recent call last)",
      "\u001b[1;32m<ipython-input-74-5558e852784c>\u001b[0m in \u001b[0;36m<module>\u001b[1;34m\u001b[0m\n\u001b[1;32m----> 1\u001b[1;33m \u001b[1;32mfor\u001b[0m \u001b[0mnumber\u001b[0m \u001b[1;32min\u001b[0m \u001b[0mphoneNumRegex\u001b[0m\u001b[1;33m.\u001b[0m\u001b[0msearch\u001b[0m\u001b[1;33m(\u001b[0m\u001b[1;34m'Cell: 415-555-9999 Work: 212-555-0000'\u001b[0m\u001b[1;33m)\u001b[0m\u001b[1;33m:\u001b[0m\u001b[1;33m\u001b[0m\u001b[1;33m\u001b[0m\u001b[0m\n\u001b[0m\u001b[0;32m      2\u001b[0m     \u001b[0mprint\u001b[0m\u001b[1;33m(\u001b[0m\u001b[0mnumber\u001b[0m\u001b[1;33m.\u001b[0m\u001b[0mgroup\u001b[0m\u001b[1;33m(\u001b[0m\u001b[1;33m)\u001b[0m\u001b[1;33m)\u001b[0m\u001b[1;33m\u001b[0m\u001b[1;33m\u001b[0m\u001b[0m\n",
      "\u001b[1;31mTypeError\u001b[0m: 're.Match' object is not iterable"
     ]
    }
   ],
   "source": [
    "for number in phoneNumRegex.search():\n",
    "    print(number.group())"
=======
   "execution_count": 68,
   "metadata": {},
   "outputs": [
    {
     "data": {
      "text/plain": [
       "'Serve the public trust.\\nProtect the innocent.\\nuphold the law.'"
      ]
     },
     "execution_count": 68,
     "metadata": {},
     "output_type": "execute_result"
    }
   ],
   "source": [
    "noNewlineRegex.search('Serve the public trust.\\nProtect the innocent.\\nuphold the law.').group()"
>>>>>>> 8a44499364136ab379613c7c62f2cd0704132818
   ]
  },
  {
   "cell_type": "code",
<<<<<<< HEAD
   "execution_count": null,
   "metadata": {},
   "outputs": [],
   "source": []
=======
   "execution_count": 69,
   "metadata": {},
   "outputs": [],
   "source": [
    "robocop = re.compile(r'robocop', re.I)\n"
   ]
>>>>>>> 8a44499364136ab379613c7c62f2cd0704132818
  },
  {
   "cell_type": "code",
   "execution_count": null,
   "metadata": {},
   "outputs": [],
   "source": []
  }
 ],
 "metadata": {
  "kernelspec": {
   "display_name": "Python 3",
   "language": "python",
   "name": "python3"
  },
  "language_info": {
   "codemirror_mode": {
    "name": "ipython",
    "version": 3
   },
   "file_extension": ".py",
   "mimetype": "text/x-python",
   "name": "python",
   "nbconvert_exporter": "python",
   "pygments_lexer": "ipython3",
<<<<<<< HEAD
   "version": "3.7.6"
=======
   "version": "3.8.2"
>>>>>>> 8a44499364136ab379613c7c62f2cd0704132818
  }
 },
 "nbformat": 4,
 "nbformat_minor": 4
}
